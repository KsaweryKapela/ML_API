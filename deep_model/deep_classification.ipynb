{
 "cells": [
  {
   "cell_type": "code",
   "execution_count": 1,
   "metadata": {},
   "outputs": [],
   "source": [
    "import pandas as pd\n",
    "import numpy as np\n",
    "\n",
    "df = pd.read_csv('https://archive.ics.uci.edu/ml/machine-learning-databases/covtype/covtype.data.gz', names=range(0, 55))\n",
    "df = df.sample(10000, random_state=8) # Sampling so computing doesn't take as long"
   ]
  },
  {
   "cell_type": "code",
   "execution_count": 2,
   "metadata": {},
   "outputs": [],
   "source": [
    "X = df[range(0, 54)].to_numpy()\n",
    "y = df[54].to_numpy()"
   ]
  },
  {
   "cell_type": "code",
   "execution_count": 3,
   "metadata": {},
   "outputs": [
    {
     "data": {
      "text/plain": [
       "(10000, 7)"
      ]
     },
     "execution_count": 3,
     "metadata": {},
     "output_type": "execute_result"
    }
   ],
   "source": [
    "from sklearn.preprocessing import OneHotEncoder\n",
    "\n",
    "encoder = OneHotEncoder()\n",
    "encoded_labels = encoder.fit_transform(y.reshape(-1, 1))\n",
    "\n",
    "y = encoded_labels.toarray()\n",
    "y.shape"
   ]
  },
  {
   "cell_type": "code",
   "execution_count": 4,
   "metadata": {},
   "outputs": [
    {
     "name": "stdout",
     "output_type": "stream",
     "text": [
      "(8000, 54)\n",
      "(2000, 54)\n"
     ]
    }
   ],
   "source": [
    "from sklearn.model_selection import train_test_split\n",
    "\n",
    "X_train, X_test, y_train, y_test = train_test_split(X, y, test_size=0.2, random_state=42)\n",
    "print(X_train.shape); print(X_test.shape)"
   ]
  },
  {
   "cell_type": "code",
   "execution_count": 5,
   "metadata": {},
   "outputs": [
    {
     "data": {
      "text/plain": [
       "((2000, 7), (8000, 7))"
      ]
     },
     "execution_count": 5,
     "metadata": {},
     "output_type": "execute_result"
    }
   ],
   "source": [
    "y_test.shape, y_train.shape"
   ]
  },
  {
   "cell_type": "code",
   "execution_count": 6,
   "metadata": {},
   "outputs": [
    {
     "name": "stderr",
     "output_type": "stream",
     "text": [
      "2023-04-13 18:33:28.554822: I tensorflow/core/util/port.cc:110] oneDNN custom operations are on. You may see slightly different numerical results due to floating-point round-off errors from different computation orders. To turn them off, set the environment variable `TF_ENABLE_ONEDNN_OPTS=0`.\n",
      "2023-04-13 18:33:28.555921: I tensorflow/tsl/cuda/cudart_stub.cc:28] Could not find cuda drivers on your machine, GPU will not be used.\n",
      "2023-04-13 18:33:28.574463: I tensorflow/tsl/cuda/cudart_stub.cc:28] Could not find cuda drivers on your machine, GPU will not be used.\n",
      "2023-04-13 18:33:28.574946: I tensorflow/core/platform/cpu_feature_guard.cc:182] This TensorFlow binary is optimized to use available CPU instructions in performance-critical operations.\n",
      "To enable the following instructions: AVX2 AVX_VNNI FMA, in other operations, rebuild TensorFlow with the appropriate compiler flags.\n",
      "2023-04-13 18:33:28.903760: W tensorflow/compiler/tf2tensorrt/utils/py_utils.cc:38] TF-TRT Warning: Could not find TensorRT\n",
      "2023-04-13 18:33:29.181823: E tensorflow/compiler/xla/stream_executor/cuda/cuda_driver.cc:266] failed call to cuInit: CUDA_ERROR_NO_DEVICE: no CUDA-capable device is detected\n"
     ]
    }
   ],
   "source": [
    "import tensorflow as tf\n",
    "import random as python_random\n",
    "from keras.models import Sequential\n",
    "from keras.layers import Dense\n",
    "\n",
    "np.random.seed(123)\n",
    "python_random.seed(123)\n",
    "tf.random.set_seed(1234)\n",
    "\n",
    "model = Sequential()\n",
    "model.add(Dense(64, input_dim=54, activation='relu'))\n",
    "model.add(Dense(32, activation='relu'))\n",
    "model.add(Dense(7, activation='softmax'))\n",
    "\n",
    "# Compile the model\n",
    "model.compile(loss='categorical_crossentropy', optimizer='adam', metrics=['accuracy'])"
   ]
  },
  {
   "cell_type": "code",
   "execution_count": 10,
   "metadata": {},
   "outputs": [
    {
     "name": "stdout",
     "output_type": "stream",
     "text": [
      "Epoch 1/50\n",
      "250/250 [==============================] - 0s 398us/step - loss: 1.1215 - accuracy: 0.6295\n",
      "Epoch 2/50\n",
      "250/250 [==============================] - 0s 398us/step - loss: 1.0487 - accuracy: 0.6380\n",
      "Epoch 3/50\n",
      "250/250 [==============================] - 0s 383us/step - loss: 1.2349 - accuracy: 0.6242\n",
      "Epoch 4/50\n",
      "250/250 [==============================] - 0s 403us/step - loss: 0.9602 - accuracy: 0.6526\n",
      "Epoch 5/50\n",
      "250/250 [==============================] - 0s 427us/step - loss: 0.9988 - accuracy: 0.6420\n",
      "Epoch 6/50\n",
      "250/250 [==============================] - 0s 379us/step - loss: 0.9338 - accuracy: 0.6489\n",
      "Epoch 7/50\n",
      "250/250 [==============================] - 0s 385us/step - loss: 1.0756 - accuracy: 0.6340\n",
      "Epoch 8/50\n",
      "250/250 [==============================] - 0s 419us/step - loss: 0.9340 - accuracy: 0.6557\n",
      "Epoch 9/50\n",
      "250/250 [==============================] - 0s 415us/step - loss: 0.8699 - accuracy: 0.6621\n",
      "Epoch 10/50\n",
      "250/250 [==============================] - 0s 390us/step - loss: 0.9495 - accuracy: 0.6430\n",
      "Epoch 11/50\n",
      "250/250 [==============================] - 0s 382us/step - loss: 0.9005 - accuracy: 0.6572\n",
      "Epoch 12/50\n",
      "250/250 [==============================] - 0s 434us/step - loss: 0.9377 - accuracy: 0.6455\n",
      "Epoch 13/50\n",
      "250/250 [==============================] - 0s 414us/step - loss: 0.8885 - accuracy: 0.6551\n",
      "Epoch 14/50\n",
      "250/250 [==============================] - 0s 440us/step - loss: 0.8577 - accuracy: 0.6637\n",
      "Epoch 15/50\n",
      "250/250 [==============================] - 0s 417us/step - loss: 0.9042 - accuracy: 0.6529\n",
      "Epoch 16/50\n",
      "250/250 [==============================] - 0s 411us/step - loss: 0.7946 - accuracy: 0.6735\n",
      "Epoch 17/50\n",
      "250/250 [==============================] - 0s 451us/step - loss: 0.8628 - accuracy: 0.6595\n",
      "Epoch 18/50\n",
      "250/250 [==============================] - 0s 440us/step - loss: 0.8683 - accuracy: 0.6587\n",
      "Epoch 19/50\n",
      "250/250 [==============================] - 0s 460us/step - loss: 0.8329 - accuracy: 0.6628\n",
      "Epoch 20/50\n",
      "250/250 [==============================] - 0s 400us/step - loss: 0.7938 - accuracy: 0.6791\n",
      "Epoch 21/50\n",
      "250/250 [==============================] - 0s 395us/step - loss: 0.7601 - accuracy: 0.6805\n",
      "Epoch 22/50\n",
      "250/250 [==============================] - 0s 387us/step - loss: 0.7965 - accuracy: 0.6745\n",
      "Epoch 23/50\n",
      "250/250 [==============================] - 0s 420us/step - loss: 0.7844 - accuracy: 0.6829\n",
      "Epoch 24/50\n",
      "250/250 [==============================] - 0s 431us/step - loss: 0.7893 - accuracy: 0.6730\n",
      "Epoch 25/50\n",
      "250/250 [==============================] - 0s 400us/step - loss: 0.7590 - accuracy: 0.6825\n",
      "Epoch 26/50\n",
      "250/250 [==============================] - 0s 393us/step - loss: 0.7643 - accuracy: 0.6776\n",
      "Epoch 27/50\n",
      "250/250 [==============================] - 0s 370us/step - loss: 0.7661 - accuracy: 0.6808\n",
      "Epoch 28/50\n",
      "250/250 [==============================] - 0s 414us/step - loss: 0.7245 - accuracy: 0.6877\n",
      "Epoch 29/50\n",
      "250/250 [==============================] - 0s 395us/step - loss: 0.7533 - accuracy: 0.6886\n",
      "Epoch 30/50\n",
      "250/250 [==============================] - 0s 386us/step - loss: 0.7353 - accuracy: 0.6862\n",
      "Epoch 31/50\n",
      "250/250 [==============================] - 0s 392us/step - loss: 0.7610 - accuracy: 0.6794\n",
      "Epoch 32/50\n",
      "250/250 [==============================] - 0s 387us/step - loss: 0.7221 - accuracy: 0.6877\n",
      "Epoch 33/50\n",
      "250/250 [==============================] - 0s 413us/step - loss: 0.7238 - accuracy: 0.6950\n",
      "Epoch 34/50\n",
      "250/250 [==============================] - 0s 379us/step - loss: 0.7086 - accuracy: 0.6929\n",
      "Epoch 35/50\n",
      "250/250 [==============================] - 0s 377us/step - loss: 0.6889 - accuracy: 0.7032\n",
      "Epoch 36/50\n",
      "250/250 [==============================] - 0s 431us/step - loss: 0.7176 - accuracy: 0.6914\n",
      "Epoch 37/50\n",
      "250/250 [==============================] - 0s 386us/step - loss: 0.7306 - accuracy: 0.6957\n",
      "Epoch 38/50\n",
      "250/250 [==============================] - 0s 366us/step - loss: 0.7411 - accuracy: 0.6810\n",
      "Epoch 39/50\n",
      "250/250 [==============================] - 0s 447us/step - loss: 0.7070 - accuracy: 0.7035\n",
      "Epoch 40/50\n",
      "250/250 [==============================] - 0s 391us/step - loss: 0.6996 - accuracy: 0.6981\n",
      "Epoch 41/50\n",
      "250/250 [==============================] - 0s 403us/step - loss: 0.7167 - accuracy: 0.6924\n",
      "Epoch 42/50\n",
      "250/250 [==============================] - 0s 386us/step - loss: 0.7074 - accuracy: 0.6985\n",
      "Epoch 43/50\n",
      "250/250 [==============================] - 0s 394us/step - loss: 0.6868 - accuracy: 0.7069\n",
      "Epoch 44/50\n",
      "250/250 [==============================] - 0s 375us/step - loss: 0.6952 - accuracy: 0.6976\n",
      "Epoch 45/50\n",
      "250/250 [==============================] - 0s 396us/step - loss: 0.6908 - accuracy: 0.7065\n",
      "Epoch 46/50\n",
      "250/250 [==============================] - 0s 353us/step - loss: 0.6880 - accuracy: 0.7063\n",
      "Epoch 47/50\n",
      "250/250 [==============================] - 0s 382us/step - loss: 0.6816 - accuracy: 0.7064\n",
      "Epoch 48/50\n",
      "250/250 [==============================] - 0s 389us/step - loss: 0.6905 - accuracy: 0.7046\n",
      "Epoch 49/50\n",
      "250/250 [==============================] - 0s 397us/step - loss: 0.6823 - accuracy: 0.7104\n",
      "Epoch 50/50\n",
      "250/250 [==============================] - 0s 378us/step - loss: 0.6775 - accuracy: 0.7096\n"
     ]
    },
    {
     "data": {
      "text/plain": [
       "<keras.callbacks.History at 0x7fe41c7a7910>"
      ]
     },
     "execution_count": 10,
     "metadata": {},
     "output_type": "execute_result"
    }
   ],
   "source": [
    "model.fit(X_train, y_train, epochs=50, batch_size=32)"
   ]
  },
  {
   "cell_type": "code",
   "execution_count": 11,
   "metadata": {},
   "outputs": [
    {
     "name": "stdout",
     "output_type": "stream",
     "text": [
      "63/63 [==============================] - 0s 295us/step\n"
     ]
    }
   ],
   "source": [
    "pred = model.predict(X_test)\n",
    "pred = np.round(pred)"
   ]
  },
  {
   "cell_type": "code",
   "execution_count": 12,
   "metadata": {},
   "outputs": [
    {
     "data": {
      "text/plain": [
       "0.6045"
      ]
     },
     "execution_count": 12,
     "metadata": {},
     "output_type": "execute_result"
    }
   ],
   "source": [
    "from sklearn.metrics import accuracy_score\n",
    "accuracy_score(pred, y_test)"
   ]
  }
 ],
 "metadata": {
  "kernelspec": {
   "display_name": "Python 3",
   "language": "python",
   "name": "python3"
  },
  "language_info": {
   "codemirror_mode": {
    "name": "ipython",
    "version": 3
   },
   "file_extension": ".py",
   "mimetype": "text/x-python",
   "name": "python",
   "nbconvert_exporter": "python",
   "pygments_lexer": "ipython3",
   "version": "3.10.6"
  },
  "orig_nbformat": 4
 },
 "nbformat": 4,
 "nbformat_minor": 2
}
