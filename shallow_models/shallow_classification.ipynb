{
 "cells": [
  {
   "cell_type": "code",
   "execution_count": 1,
   "metadata": {},
   "outputs": [],
   "source": [
    "import pandas as pd\n",
    "import numpy as np\n",
    "\n",
    "df = pd.read_csv('https://archive.ics.uci.edu/ml/machine-learning-databases/covtype/covtype.data.gz', names=range(0, 55))"
   ]
  },
  {
   "cell_type": "code",
   "execution_count": 14,
   "metadata": {},
   "outputs": [],
   "source": [
    "df = df.sample(10000, random_state=8) # Sampling so computing doesn't take as long"
   ]
  },
  {
   "cell_type": "code",
   "execution_count": 15,
   "metadata": {},
   "outputs": [],
   "source": [
    "X = df[range(0, 54)].to_numpy()\n",
    "y = df[54].to_numpy()"
   ]
  },
  {
   "cell_type": "code",
   "execution_count": 16,
   "metadata": {},
   "outputs": [
    {
     "data": {
      "text/plain": [
       "((10000, 54), (10000,))"
      ]
     },
     "execution_count": 16,
     "metadata": {},
     "output_type": "execute_result"
    }
   ],
   "source": [
    "X.shape, y.shape"
   ]
  },
  {
   "cell_type": "code",
   "execution_count": 18,
   "metadata": {},
   "outputs": [],
   "source": [
    "from sklearn.model_selection import train_test_split\n",
    "\n",
    "X_train, X_test, y_train, y_test = train_test_split(X, y, test_size=0.2, random_state=42)"
   ]
  },
  {
   "cell_type": "code",
   "execution_count": 19,
   "metadata": {},
   "outputs": [
    {
     "name": "stdout",
     "output_type": "stream",
     "text": [
      "Loop 0/6\n",
      "Loop 1/6\n",
      "Loop 2/6\n",
      "Loop 3/6\n",
      "Loop 4/6\n",
      "Loop 5/6\n",
      "Loop 6/6\n"
     ]
    },
    {
     "data": {
      "text/plain": [
       "(0.725, 1000.0)"
      ]
     },
     "execution_count": 19,
     "metadata": {},
     "output_type": "execute_result"
    }
   ],
   "source": [
    "from sklearn.svm import SVC\n",
    "from sklearn.metrics import accuracy_score\n",
    "\n",
    "C_value = 0.001\n",
    "best_acc = 0\n",
    "best_C = None\n",
    "\n",
    "for i in range(7):\n",
    "    clf_SVC = SVC(C=C_value)\n",
    "    clf_SVC.fit(X_train, y_train) # Limited to 5000 to save on computing power\n",
    "    SVC_pred = clf_SVC.predict(X_test)\n",
    "    acc = accuracy_score(SVC_pred, y_test)\n",
    "\n",
    "    if acc > best_acc:\n",
    "        best_acc = acc\n",
    "        best_C = C_value\n",
    "\n",
    "    C_value *= 10\n",
    "    \n",
    "    print(f'Loop {i}/6')\n",
    "\n",
    "best_acc, best_C"
   ]
  },
  {
   "cell_type": "code",
   "execution_count": 20,
   "metadata": {},
   "outputs": [
    {
     "name": "stdout",
     "output_type": "stream",
     "text": [
      "Loop 0/11\n",
      "Loop 1/11\n",
      "Loop 2/11\n",
      "Loop 3/11\n",
      "Loop 4/11\n",
      "Loop 5/11\n",
      "Loop 6/11\n",
      "Loop 7/11\n",
      "Loop 8/11\n",
      "Loop 9/11\n",
      "Loop 10/11\n",
      "Loop 11/11\n"
     ]
    },
    {
     "data": {
      "text/plain": [
       "(0.789, 24)"
      ]
     },
     "execution_count": 20,
     "metadata": {},
     "output_type": "execute_result"
    }
   ],
   "source": [
    "from sklearn.ensemble import RandomForestClassifier\n",
    "\n",
    "depth = 2\n",
    "best_acc = 0\n",
    "best_depth = None\n",
    "\n",
    "for i in range(12):\n",
    "    clf_RF = RandomForestClassifier(max_depth=depth)\n",
    "    clf_RF.fit(X_train, y_train)\n",
    "    RF_pred = clf_RF.predict(X_test)\n",
    "    acc = accuracy_score(RF_pred, y_test)\n",
    "\n",
    "    if acc > best_acc:\n",
    "        best_acc = acc\n",
    "        best_depth = depth\n",
    "\n",
    "    depth += 2\n",
    "    \n",
    "    print(f'Loop {i}/11')\n",
    "\n",
    "best_acc, best_depth"
   ]
  },
  {
   "attachments": {},
   "cell_type": "markdown",
   "metadata": {},
   "source": [
    "Saving models trained on all data"
   ]
  },
  {
   "cell_type": "code",
   "execution_count": 22,
   "metadata": {},
   "outputs": [],
   "source": [
    "import pickle\n",
    "\n",
    "SVC_final = SVC(C=best_C)\n",
    "SVC_final.fit(X, y)\n",
    "\n",
    "model_name = 'SVC_clf.sav'\n",
    "pickle.dump(SVC_final, open(model_name, 'wb'))"
   ]
  },
  {
   "cell_type": "code",
   "execution_count": 23,
   "metadata": {},
   "outputs": [],
   "source": [
    "RF_final = RandomForestClassifier(max_depth=best_depth)\n",
    "RF_final.fit(X, y)\n",
    "\n",
    "rf_model_name = 'RF_clf.sav'\n",
    "pickle.dump(RF_final, open(rf_model_name, 'wb'))"
   ]
  }
 ],
 "metadata": {
  "kernelspec": {
   "display_name": "Python 3",
   "language": "python",
   "name": "python3"
  },
  "language_info": {
   "codemirror_mode": {
    "name": "ipython",
    "version": 3
   },
   "file_extension": ".py",
   "mimetype": "text/x-python",
   "name": "python",
   "nbconvert_exporter": "python",
   "pygments_lexer": "ipython3",
   "version": "3.10.6"
  },
  "orig_nbformat": 4
 },
 "nbformat": 4,
 "nbformat_minor": 2
}
